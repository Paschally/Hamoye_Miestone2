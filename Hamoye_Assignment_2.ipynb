{
 "cells": [
  {
   "cell_type": "code",
   "execution_count": 1,
   "id": "264a60e2",
   "metadata": {},
   "outputs": [],
   "source": [
    "### Import libraries\n",
    "\n",
    "import numpy as np\n",
    "import pandas as pd\n",
    "import seaborn as sns\n",
    "import matplotlib.pyplot as plt\n",
    "import warnings\n",
    "\n",
    "warnings.filterwarnings('ignore')"
   ]
  },
  {
   "cell_type": "code",
   "execution_count": 2,
   "id": "e9390523",
   "metadata": {},
   "outputs": [],
   "source": [
    "### Load dataset\n",
    "\n",
    "df = pd.read_csv('energydata_complete.csv')"
   ]
  },
  {
   "cell_type": "code",
   "execution_count": 3,
   "id": "f8f26eed",
   "metadata": {},
   "outputs": [],
   "source": [
    "df['date'] = pd.to_datetime(df['date'])     ### Ensure datetime is of correct datatype"
   ]
  },
  {
   "cell_type": "code",
   "execution_count": 4,
   "id": "013d1ffb",
   "metadata": {},
   "outputs": [
    {
     "name": "stdout",
     "output_type": "stream",
     "text": [
      "Root Mean Squared Error (RMSE): 3.630\n"
     ]
    }
   ],
   "source": [
    "\"\"\" Fit a linear model on the relationship between the temperature in the living room in Celsius (x = T2) \n",
    "and the temperature outside the building (y = T6).\n",
    "What is the Root Mean Squared error in three D.P? \"\"\"\n",
    "\n",
    "\n",
    "from sklearn.model_selection import train_test_split\n",
    "\n",
    "from sklearn.linear_model import LinearRegression\n",
    "\n",
    "x = df[['T2']]\n",
    "y = df['T6']\n",
    "\n",
    "# Split the data into training and testing sets\n",
    "x_train, x_test, y_train, y_test = train_test_split(x, y, test_size=0.3, random_state=42)\n",
    "\n",
    "# Create and train the Linear Regression model\n",
    "model = LinearRegression()\n",
    "model.fit(x_train, y_train)\n",
    "\n",
    "# Make predictions on the test set\n",
    "y_pred = model.predict(x_test)\n",
    "\n",
    "# Calculate the Root Mean Squared Error (RMSE)\n",
    "from sklearn.metrics import mean_squared_error\n",
    "rmse = np.sqrt(mean_squared_error(y_test, y_pred))\n",
    "\n",
    "# Print RMSE rounded to 3 decimal places\n",
    "print(\"Root Mean Squared Error (RMSE): {:.3f}\".format(rmse))"
   ]
  },
  {
   "cell_type": "code",
   "execution_count": 5,
   "id": "e13a3dc0",
   "metadata": {},
   "outputs": [
    {
     "data": {
      "text/plain": [
       "date           datetime64[ns]\n",
       "Appliances              int64\n",
       "lights                  int64\n",
       "T1                    float64\n",
       "RH_1                  float64\n",
       "T2                    float64\n",
       "RH_2                  float64\n",
       "T3                    float64\n",
       "RH_3                  float64\n",
       "T4                    float64\n",
       "RH_4                  float64\n",
       "T5                    float64\n",
       "RH_5                  float64\n",
       "T6                    float64\n",
       "RH_6                  float64\n",
       "T7                    float64\n",
       "RH_7                  float64\n",
       "T8                    float64\n",
       "RH_8                  float64\n",
       "T9                    float64\n",
       "RH_9                  float64\n",
       "T_out                 float64\n",
       "Press_mm_hg           float64\n",
       "RH_out                float64\n",
       "Windspeed             float64\n",
       "Visibility            float64\n",
       "Tdewpoint             float64\n",
       "rv1                   float64\n",
       "rv2                   float64\n",
       "dtype: object"
      ]
     },
     "execution_count": 5,
     "metadata": {},
     "output_type": "execute_result"
    }
   ],
   "source": [
    "df.dtypes"
   ]
  },
  {
   "cell_type": "code",
   "execution_count": 6,
   "id": "ee358201",
   "metadata": {},
   "outputs": [],
   "source": [
    "\"\"\"\"\n",
    "Remove the following columns: [“date”, “lights”]. The target variable is “Appliances”. \n",
    "Use a 70-30 train-test set split with a  random state of 42 (for reproducibility). \n",
    "Normalize the dataset using the MinMaxScaler \n",
    "(Hint: Use the MinMaxScaler fit_transform and transform methods on the train and test set respectively). \n",
    "Run a multiple linear regression using the training set. Answer the following questions:\n",
    "\n",
    "What is the Mean Absolute Error (in three decimal places) for the  training set?\n",
    "\"\"\"\n",
    "from sklearn.preprocessing import MinMaxScaler\n",
    "scaler = MinMaxScaler()\n",
    "\n",
    "x = scaler.fit_transform(df[['T1', 'RH_1', 'T2', 'RH_2', 'T3',\n",
    "       'RH_3', 'T4', 'RH_4', 'T5', 'RH_5', 'T6', 'RH_6', 'T7', 'RH_7', 'T8',\n",
    "       'RH_8', 'T9', 'RH_9', 'T_out', 'Press_mm_hg', 'RH_out', 'Windspeed',\n",
    "       'Visibility', 'Tdewpoint', 'rv1', 'rv2']])\n",
    "\n",
    "y = df['Appliances']\n",
    "y = y.values.reshape(-1, 1)\n",
    "y = scaler.fit_transform(y)"
   ]
  },
  {
   "cell_type": "code",
   "execution_count": 7,
   "id": "61926720",
   "metadata": {},
   "outputs": [],
   "source": [
    "from sklearn.model_selection import train_test_split\n",
    "from sklearn.linear_model import LinearRegression\n",
    "from sklearn.metrics import mean_squared_error\n",
    "from sklearn.metrics import mean_absolute_error\n",
    "\n",
    "# Split the data into training and testing sets\n",
    "x_train, x_test, y_train, y_test = train_test_split(x, y, train_size=0.7, random_state=42)\n",
    "\n",
    "# Create and train the Linear Regression model\n",
    "model = LinearRegression()\n",
    "model.fit(x_train, y_train)\n",
    "\n",
    "# Make predictions for the test and training sets\n",
    "y_test_predict = model.predict(x_test)\n",
    "y_train_predict = model.predict(x_train)"
   ]
  },
  {
   "cell_type": "markdown",
   "id": "a98f7d4f",
   "metadata": {},
   "source": [
    "### Mean Absolute Error (MAE)"
   ]
  },
  {
   "cell_type": "code",
   "execution_count": 8,
   "id": "7554f664",
   "metadata": {},
   "outputs": [
    {
     "name": "stdout",
     "output_type": "stream",
     "text": [
      "Mean Squared Error (MAE) for Training Set: 50.226\n",
      "Mean Squared Error (MAE) for Test Set: 50.134\n"
     ]
    }
   ],
   "source": [
    "mae_train = mean_absolute_error(y_train,y_train_predict)*1000\n",
    "mae_test = mean_absolute_error(y_test,y_test_predict)*1000\n",
    "\n",
    "\n",
    "# Print the RMSE for both training and test sets\n",
    "print(f\"Mean Squared Error (MAE) for Training Set: {mae_train:.3f}\")\n",
    "print(f\"Mean Squared Error (MAE) for Test Set: {mae_test:.3f}\")\n"
   ]
  },
  {
   "cell_type": "markdown",
   "id": "6e66619b",
   "metadata": {},
   "source": [
    "### Root Mean Squared Error (RMSE)"
   ]
  },
  {
   "cell_type": "code",
   "execution_count": 9,
   "id": "f269c2e6",
   "metadata": {},
   "outputs": [
    {
     "name": "stdout",
     "output_type": "stream",
     "text": [
      "Root Mean Squared Error (RMSE) for Training Set: 88.987\n",
      "Root Mean Squared Error (RMSE) for Test Set: 87.514\n"
     ]
    }
   ],
   "source": [
    "# Calculate the Root Mean Squared Error (RMSE) for the training set\n",
    "rmse_train = np.sqrt(mean_squared_error(y_train, y_train_predict))*1000\n",
    "\n",
    "# Calculate the Root Mean Squared Error (RMSE) for the test set\n",
    "rmse_test = np.sqrt(mean_squared_error(y_test, y_test_predict))*1000\n",
    "\n",
    "# Print the RMSE for both training and test sets\n",
    "print(f\"Root Mean Squared Error (RMSE) for Training Set: {rmse_train:.3f}\")\n",
    "print(f\"Root Mean Squared Error (RMSE) for Test Set: {rmse_test:.3f}\")"
   ]
  },
  {
   "cell_type": "markdown",
   "id": "45cd8f5d",
   "metadata": {},
   "source": [
    "### Ridge penalization method"
   ]
  },
  {
   "cell_type": "code",
   "execution_count": 10,
   "id": "ac5432db",
   "metadata": {},
   "outputs": [
    {
     "name": "stdout",
     "output_type": "stream",
     "text": [
      "Root Mean Squared Error (RMSE) for Training Set: 95.216\n",
      "Root Mean Squared Error (RMSE) for Test Set: 93.641\n"
     ]
    }
   ],
   "source": [
    "\"\"\"\"\n",
    "Train a ridge regression model with default parameters. \n",
    "Is there any change to the root mean squared error (RMSE) when evaluated on the test set?\n",
    "\"\"\"\n",
    "\n",
    "x = df[['T1', 'RH_1', 'T2', 'RH_2', 'T3',\n",
    "       'RH_3', 'T4', 'RH_4', 'T5', 'RH_5', 'T6', 'RH_6', 'T7', 'RH_7', 'T8',\n",
    "       'RH_8', 'T9', 'RH_9', 'T_out', 'Press_mm_hg', 'RH_out', 'Windspeed',\n",
    "       'Visibility', 'Tdewpoint', 'rv1', 'rv2']]\n",
    "\n",
    "y = df['Appliances']\n",
    "\n",
    "x_train, x_test, y_train, y_test = train_test_split(x, y, train_size=0.7, random_state=42)\n",
    "from sklearn.linear_model import Ridge\n",
    "ridge_reg = Ridge(alpha=0.5)\n",
    "ridge_reg.fit(x_train, y_train)\n",
    "\n",
    "y_tested = ridge_reg.predict(x_test)\n",
    "y_trained = ridge_reg.predict(x_train)\n",
    "\n",
    "rmse_train = np.sqrt(mean_squared_error(y_train, y_trained))\n",
    "\n",
    "# Calculate the Root Mean Squared Error (RMSE) for the test set\n",
    "rmse_test = np.sqrt(mean_squared_error(y_test, y_tested))\n",
    "\n",
    "# Print the RMSE for both training and test sets\n",
    "print(f\"Root Mean Squared Error (RMSE) for Training Set: {rmse_train:.3f}\")\n",
    "print(f\"Root Mean Squared Error (RMSE) for Test Set: {rmse_test:.3f}\")                               "
   ]
  },
  {
   "cell_type": "markdown",
   "id": "7af8c95a",
   "metadata": {},
   "source": [
    "### Lasso penalization method"
   ]
  },
  {
   "cell_type": "code",
   "execution_count": 11,
   "id": "f017e5c3",
   "metadata": {},
   "outputs": [
    {
     "name": "stdout",
     "output_type": "stream",
     "text": [
      "Root Mean Squared Error (RMSE) for Training Set: 95.216\n",
      "Root Mean Squared Error (RMSE) for Test Set: 93.640\n"
     ]
    }
   ],
   "source": [
    "\"\"\"\n",
    "Train a lasso regression model with default value and obtain the new feature weights with it. \n",
    "How many of the features have non-zero feature weights?\n",
    "\"\"\"\n",
    "x = df[['T1', 'RH_1', 'T2', 'RH_2', 'T3',\n",
    "       'RH_3', 'T4', 'RH_4', 'T5', 'RH_5', 'T6', 'RH_6', 'T7', 'RH_7', 'T8',\n",
    "       'RH_8', 'T9', 'RH_9', 'T_out', 'Press_mm_hg', 'RH_out', 'Windspeed',\n",
    "       'Visibility', 'Tdewpoint', 'rv1', 'rv2']]\n",
    "\n",
    "y = df['Appliances']\n",
    "\n",
    "x_train, x_test, y_train, y_test = train_test_split(x, y, train_size=0.7, random_state=42)\n",
    "\n",
    "from sklearn.linear_model import Lasso\n",
    "lasso_reg = Lasso(alpha=0.001)\n",
    "lasso_reg.fit(x_train, y_train)\n",
    "\n",
    "y_tested = lasso_reg.predict(x_test)\n",
    "y_trained = lasso_reg.predict(x_train)\n",
    "\n",
    "rmse_train = np.sqrt(mean_squared_error(y_train, y_trained))\n",
    "\n",
    "# Calculate the Root Mean Squared Error (RMSE) for the test set\n",
    "rmse_test = np.sqrt(mean_squared_error(y_test, y_tested))\n",
    "\n",
    "# Print the RMSE for both training and test sets\n",
    "print(f\"Root Mean Squared Error (RMSE) for Training Set: {rmse_train:.3f}\")\n",
    "print(f\"Root Mean Squared Error (RMSE) for Test Set: {rmse_test:.3f}\") "
   ]
  },
  {
   "cell_type": "markdown",
   "id": "cc5afb7c",
   "metadata": {},
   "source": [
    "### Number of features with non-zero weights using Lasso penalization"
   ]
  },
  {
   "cell_type": "code",
   "execution_count": 16,
   "id": "6977b522",
   "metadata": {},
   "outputs": [
    {
     "name": "stdout",
     "output_type": "stream",
     "text": [
      "Number of features with non-zero feature weights: 26\n",
      " \n",
      "See below features and their weights\n",
      "T1: -0.3665\n",
      "RH_1: 16.2997\n",
      "T2: -18.3632\n",
      "RH_2: -13.7372\n",
      "T3: 25.8311\n",
      "RH_3: 4.8020\n",
      "T4: 2.7887\n",
      "RH_4: 1.2029\n",
      "T5: -1.6016\n",
      "RH_5: 0.2575\n",
      "T6: 7.3603\n",
      "RH_6: 0.4115\n",
      "T7: 1.0344\n",
      "RH_7: -1.6919\n",
      "T8: 9.9883\n",
      "RH_8: -5.7790\n",
      "T9: -21.1384\n",
      "RH_9: -1.7623\n",
      "T_out: -11.0596\n",
      "Press_mm_hg: 0.1702\n",
      "RH_out: -1.0912\n",
      "Windspeed: 2.2306\n",
      "Visibility: 0.2025\n",
      "Tdewpoint: 5.6890\n",
      "rv1: 0.0330\n",
      "rv2: 0.0000\n"
     ]
    }
   ],
   "source": [
    "# Get the feature weights (coefficients) from the trained Lasso model\n",
    "features = x.columns\n",
    "weights = lasso_reg.coef_\n",
    "\n",
    "# Count the number of features with non-zero weights\n",
    "non_zero_feature_count = sum(weights != 0)\n",
    "\n",
    "print(\"Number of features with non-zero feature weights:\", non_zero_feature_count)\n",
    "print(\" \")\n",
    "print(\"See below features and their weights:\")\n",
    "\n",
    "for feature, weight in zip(features,weights):\n",
    "    print(f\"{feature}: {weight:.4f}\")"
   ]
  },
  {
   "cell_type": "code",
   "execution_count": null,
   "id": "63546dd0",
   "metadata": {},
   "outputs": [],
   "source": []
  },
  {
   "cell_type": "code",
   "execution_count": null,
   "id": "7c63eb5e",
   "metadata": {},
   "outputs": [],
   "source": []
  }
 ],
 "metadata": {
  "kernelspec": {
   "display_name": "Python 3 (ipykernel)",
   "language": "python",
   "name": "python3"
  },
  "language_info": {
   "codemirror_mode": {
    "name": "ipython",
    "version": 3
   },
   "file_extension": ".py",
   "mimetype": "text/x-python",
   "name": "python",
   "nbconvert_exporter": "python",
   "pygments_lexer": "ipython3",
   "version": "3.9.13"
  }
 },
 "nbformat": 4,
 "nbformat_minor": 5
}
